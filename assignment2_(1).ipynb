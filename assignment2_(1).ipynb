{
  "nbformat": 4,
  "nbformat_minor": 0,
  "metadata": {
    "colab": {
      "name": "assignment2 (1).ipynb",
      "provenance": [],
      "collapsed_sections": [],
      "include_colab_link": true
    },
    "kernelspec": {
      "name": "python3",
      "display_name": "Python 3"
    },
    "language_info": {
      "name": "python"
    }
  },
  "cells": [
    {
      "cell_type": "markdown",
      "metadata": {
        "id": "view-in-github",
        "colab_type": "text"
      },
      "source": [
        "<a href=\"https://colab.research.google.com/github/G-Vangala/Python-new/blob/Module-2/assignment2_(1).ipynb\" target=\"_parent\"><img src=\"https://colab.research.google.com/assets/colab-badge.svg\" alt=\"Open In Colab\"/></a>"
      ]
    },
    {
      "cell_type": "markdown",
      "source": [
        "###Program to print a specified list after removing the 0th, 4th and 5th elements.\n",
        "####Sample List : ['Red', 'Green', 'White', 'Black', 'Pink', 'Yellow']\n",
        "####Expected Output : ['Green', 'White', 'Black']"
      ],
      "metadata": {
        "id": "HARbV72Yu5lx"
      }
    },
    {
      "cell_type": "code",
      "source": [
        "def color():\n",
        " lists= ['Red', 'Green', 'White', 'Black', 'Pink', 'Yellow']\n",
        " lists.pop(5)\n",
        " lists.pop(4)  \n",
        " lists.pop(0)\n",
        " print(lists)\n",
        "color()"
      ],
      "metadata": {
        "colab": {
          "base_uri": "https://localhost:8080/"
        },
        "id": "Sa_O9LcctJjZ",
        "outputId": "1f021f6c-42a3-41b1-c63e-3d8b53cbdce5"
      },
      "execution_count": null,
      "outputs": [
        {
          "output_type": "stream",
          "name": "stdout",
          "text": [
            "['Green', 'White', 'Black']\n"
          ]
        }
      ]
    },
    {
      "cell_type": "markdown",
      "source": [
        "## Program to get the difference between the two lists.\n"
      ],
      "metadata": {
        "id": "LG0H2Ebpwobf"
      }
    },
    {
      "cell_type": "code",
      "source": [
        "def diff():\n",
        " l1 = [10, 15, 20, 28, 30, 45, 50]\n",
        " l2 = [25, 46, 35]\n",
        " l3 =set(l1)\n",
        " l4= set(l2)\n",
        " li5= l3.difference(l4)\n",
        " li6= list(li5)\n",
        " print(li6)\n",
        "diff()"
      ],
      "metadata": {
        "colab": {
          "base_uri": "https://localhost:8080/"
        },
        "id": "hssdtviKxiXA",
        "outputId": "5081d134-e43e-4c85-b7a8-bb9197be7a72"
      },
      "execution_count": null,
      "outputs": [
        {
          "output_type": "stream",
          "name": "stdout",
          "text": [
            "[10, 45, 15, 50, 20, 28, 30]\n"
          ]
        }
      ]
    },
    {
      "cell_type": "markdown",
      "source": [
        "## Program to find the second smallest number and second largest number in a list.\n"
      ],
      "metadata": {
        "id": "jt5AEcyqzp-I"
      }
    },
    {
      "cell_type": "code",
      "source": [
        "def find_len():\n",
        "\tlists=[69,967,1230,3215,9658,7458998,85213]\n",
        "\tlength = len(lists)\n",
        "\tlists.sort()\n",
        "\tprint(\"Second Largest element is:\", lists[length-2])\n",
        "\tprint(\"Second Smallest element is:\", lists[1])\n",
        "find_len()"
      ],
      "metadata": {
        "colab": {
          "base_uri": "https://localhost:8080/"
        },
        "id": "Emo-XGv1zsJ8",
        "outputId": "990c6023-7e18-4b70-dc1f-c358d8cfc1b3"
      },
      "execution_count": null,
      "outputs": [
        {
          "output_type": "stream",
          "name": "stdout",
          "text": [
            "Second Largest element is: 85213\n",
            "Second Smallest element is: 967\n"
          ]
        }
      ]
    },
    {
      "cell_type": "markdown",
      "source": [
        "####Given a list of numbers of list, write a Python program to create a list of tuples having first element as the number and second element as the square of the number."
      ],
      "metadata": {
        "id": "mKhKeOyUz5mL"
      }
    },
    {
      "cell_type": "code",
      "source": [
        "def sq_in_list()\n",
        "  list1 = [1, 6, 9, 69]\n",
        "  b= len(list1)\n",
        "  for i in range(0,b):\n",
        "   c=list1[i]\n",
        "   a=pow(c,2)\n",
        "   res = (c, a)\n",
        "   print(res)\n",
        "sq_in_list"
      ],
      "metadata": {
        "colab": {
          "base_uri": "https://localhost:8080/"
        },
        "id": "iTAhm5d8zyET",
        "outputId": "9185ecda-df76-4d14-840f-a10277cf501c"
      },
      "execution_count": null,
      "outputs": [
        {
          "output_type": "stream",
          "name": "stdout",
          "text": [
            "(1, 1)\n",
            "(6, 36)\n",
            "(9, 81)\n",
            "(69, 4761)\n"
          ]
        }
      ]
    },
    {
      "cell_type": "markdown",
      "source": [
        "###Given list of tuples, remove all the tuples with length K.\n",
        "###Input : test_list = [(4, 5), (4, ), (8, 6, 7), (1, ), (3, 4, 6, 7)], K = 2\n",
        "###Output : [(4, ), (8, 6, 7), (1, ), (3, 4, 6, 7)]\n",
        "###Explanation : (4, 5) of len = 2 is removed."
      ],
      "metadata": {
        "id": "CEZsLQxL0jbr"
      }
    },
    {
      "cell_type": "code",
      "source": [
        "def len_of_tuples():\n",
        " test_list = [(4, 5), (4, ), (8, 6, 7), (1, ), (3, 4, 6, 7)]\n",
        "\n",
        " print(\"The original list : \" + str(test_list))\n",
        "\n",
        " K = 2\n",
        " res = [ele for ele in test_list if len(ele) != K]\n",
        "\n",
        " print(\"Filtered list : \" + str(res))\n",
        "len_of_tuples"
      ],
      "metadata": {
        "colab": {
          "base_uri": "https://localhost:8080/"
        },
        "id": "N2vM0Xfq0XNw",
        "outputId": "fb1cc735-224f-457c-c1e1-cfe49ea00aee"
      },
      "execution_count": null,
      "outputs": [
        {
          "output_type": "stream",
          "name": "stdout",
          "text": [
            "The original list : [(4, 5), (4,), (8, 6, 7), (1,), (3, 4, 6, 7)]\n",
            "Filtered list : [(4,), (8, 6, 7), (1,), (3, 4, 6, 7)]\n"
          ]
        }
      ]
    },
    {
      "cell_type": "markdown",
      "source": [
        "###Program to generate and print a dictionary that contains a number (between 1\n",
        "and n) in the form (x, x*x).\n",
        "Sample Input: (n=5) :\n",
        "Expected Output : {1: 1, 2: 4, 3: 9, 4: 16, 5: 25}"
      ],
      "metadata": {
        "id": "1eF7cpIL2hIY"
      }
    },
    {
      "cell_type": "code",
      "source": [
        "def sq():\n",
        " n=int(input(\"Enter a number \"))\n",
        " d = dict()\n",
        " for x in range(1,n+1):\n",
        "    d[x]=x*x\n",
        " print(d) \n",
        "sq()"
      ],
      "metadata": {
        "colab": {
          "base_uri": "https://localhost:8080/"
        },
        "id": "1bEr19cg1Az0",
        "outputId": "8126719a-d7de-4c50-cd89-a34d5c6494b5"
      },
      "execution_count": null,
      "outputs": [
        {
          "output_type": "stream",
          "name": "stdout",
          "text": [
            "Enter a number 8\n",
            "{1: 1, 2: 4, 3: 9, 4: 16, 5: 25, 6: 36, 7: 49, 8: 64}\n"
          ]
        }
      ]
    },
    {
      "cell_type": "markdown",
      "source": [
        "#### Program to remove a key from a dictionary\n"
      ],
      "metadata": {
        "id": "NJagbfqJ3HPg"
      }
    },
    {
      "cell_type": "code",
      "source": [
        "def removing_keys():\n",
        " diction = {'a':1,'b':2,'c':3,'d':4}\n",
        " print(diction)\n",
        " if 'a' in diction: \n",
        "    del diction['d']\n",
        " print(diction)\n",
        "removing_keys"
      ],
      "metadata": {
        "colab": {
          "base_uri": "https://localhost:8080/"
        },
        "id": "B6BE8U8m2wEc",
        "outputId": "400d93af-24a4-4bf6-fa16-1f25207e6514"
      },
      "execution_count": null,
      "outputs": [
        {
          "output_type": "execute_result",
          "data": {
            "text/plain": [
              "<function __main__.removing_keys>"
            ]
          },
          "metadata": {},
          "execution_count": 10
        }
      ]
    },
    {
      "cell_type": "markdown",
      "source": [
        "######Program for Counting occurrence of a certain element in a string, getting indexes that have matching elements\n"
      ],
      "metadata": {
        "id": "tD0m5wXv6Hrb"
      }
    },
    {
      "cell_type": "code",
      "source": [
        "def strcount():\n",
        "\ttest_str = \"Vengeance, Vengeance, Vengeance!!!\"\n",
        "\tcount = 0\n",
        "\tfor i in test_str:\n",
        "\t\tif i == 'e':\n",
        "\t\t\tcount = count + 1\n",
        "\tprint (\"Count of e in Vengeance, Vengeance, Vengeance!!! is : \"+ str(count))\n",
        "strcount()"
      ],
      "metadata": {
        "colab": {
          "base_uri": "https://localhost:8080/"
        },
        "id": "KxbjHgpW3fSV",
        "outputId": "b9b1c81b-14d7-4a27-fd8a-da6ac3bba583"
      },
      "execution_count": null,
      "outputs": [
        {
          "output_type": "stream",
          "name": "stdout",
          "text": [
            "Count of e in Vengeance, Vengeance, Vengeance!!! is : 9\n"
          ]
        }
      ]
    },
    {
      "cell_type": "markdown",
      "source": [
        "####Program for replacing one substring by another"
      ],
      "metadata": {
        "id": "9ObCiiI98zim"
      }
    },
    {
      "cell_type": "code",
      "source": [
        "def string_replace():\n",
        "  string = \"Violence, Violence, Violence, I dont like, I avoid....\"\n",
        "  print(string.replace(\"....\", \" ,but Violence likes me, I cant avoid\"))\n",
        "  print(string.replace(\"....\", \" but Violence likes me, I cant avoid\", 1))\n",
        "string_replace()"
      ],
      "metadata": {
        "colab": {
          "base_uri": "https://localhost:8080/"
        },
        "id": "qMTHD1gS8kTg",
        "outputId": "d6bea445-3e44-4bbc-9f9d-a9c2589639bd"
      },
      "execution_count": null,
      "outputs": [
        {
          "output_type": "stream",
          "name": "stdout",
          "text": [
            "Violence, Violence, Violence, I dont like, I avoid ,but Violence likes me, I cant avoid\n",
            "Violence, Violence, Violence, I dont like, I avoid but Violence likes me, I cant avoid\n"
          ]
        }
      ]
    },
    {
      "cell_type": "code",
      "source": [
        ""
      ],
      "metadata": {
        "id": "lZkjoCo3LV-8"
      },
      "execution_count": null,
      "outputs": []
    },
    {
      "cell_type": "markdown",
      "source": [
        "### Program to get the maximum and minimum value in a dictionary.\n"
      ],
      "metadata": {
        "id": "Iqwu5qPQVCny"
      }
    },
    {
      "cell_type": "code",
      "source": [
        "def dict_max():\n",
        "  Racers = {'Russell':1200, 'Sainz':1500, 'Leclerc' : 1700}\n",
        "  res = max(Racers)\n",
        "  result = min(Racers)\n",
        "  print(res)\n",
        "  print(result)\n",
        "dict_max()"
      ],
      "metadata": {
        "colab": {
          "base_uri": "https://localhost:8080/"
        },
        "id": "XfBRZktkVD08",
        "outputId": "94e9ff88-e43c-4c29-df27-d517b215e70d"
      },
      "execution_count": null,
      "outputs": [
        {
          "output_type": "stream",
          "name": "stdout",
          "text": [
            "Sainz\n",
            "Leclerc\n"
          ]
        }
      ]
    },
    {
      "cell_type": "markdown",
      "source": [
        "## Program to perform operations on string using unicodes ,splitting of string,accessing elements of string using locations"
      ],
      "metadata": {
        "id": "tzVRly0D4JYA"
      }
    },
    {
      "cell_type": "code",
      "source": [
        ""
      ],
      "metadata": {
        "id": "guJqN43C4TFg"
      },
      "execution_count": null,
      "outputs": []
    }
  ]
}